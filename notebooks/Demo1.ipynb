{
 "cells": [
  {
   "cell_type": "markdown",
   "metadata": {},
   "source": [
    "# LFortran: Interactive Fortran Compiler\n",
    "\n",
    "This is a Demo notebook that was [originally used](https://nbviewer.jupyter.org/gist/certik/f1d28a486510810d824869ab0c491b1c) with the Python prototype of LFortran. The new C++ production implementation can now execute all the cells in the original notebook (and more).\n",
    "\n",
    "\n",
    "## Calculator"
   ]
  },
  {
   "cell_type": "code",
   "execution_count": 18,
   "metadata": {},
   "outputs": [
    {
     "data": {
      "text/plain": [
       "4"
      ]
     },
     "execution_count": 18,
     "metadata": {},
     "output_type": "execute_result"
    }
   ],
   "source": [
    "1+3"
   ]
  },
  {
   "cell_type": "code",
   "execution_count": 19,
   "metadata": {},
   "outputs": [
    {
     "data": {
      "text/plain": [
       "15"
      ]
     },
     "execution_count": 19,
     "metadata": {},
     "output_type": "execute_result"
    }
   ],
   "source": [
    "(2+3)*3"
   ]
  },
  {
   "cell_type": "markdown",
   "metadata": {},
   "source": [
    "## Global Variables"
   ]
  },
  {
   "cell_type": "code",
   "execution_count": 20,
   "metadata": {},
   "outputs": [
    {
     "name": "stderr",
     "output_type": "stream",
     "text": [
      "LFortran Exception: addModule() returned an error: Duplicate definition of symbol 'i'"
     ]
    }
   ],
   "source": [
    "integer :: i"
   ]
  },
  {
   "cell_type": "code",
   "execution_count": 21,
   "metadata": {},
   "outputs": [
    {
     "name": "stderr",
     "output_type": "stream",
     "text": [
      "LFortran Exception: addModule() returned an error: Duplicate definition of symbol 'j'"
     ]
    }
   ],
   "source": [
    "integer :: j"
   ]
  },
  {
   "cell_type": "code",
   "execution_count": 22,
   "metadata": {},
   "outputs": [],
   "source": [
    "i = 5\n",
    "j = 6"
   ]
  },
  {
   "cell_type": "code",
   "execution_count": 23,
   "metadata": {},
   "outputs": [
    {
     "data": {
      "text/plain": [
       "5"
      ]
     },
     "execution_count": 23,
     "metadata": {},
     "output_type": "execute_result"
    }
   ],
   "source": [
    "i"
   ]
  },
  {
   "cell_type": "code",
   "execution_count": 24,
   "metadata": {},
   "outputs": [
    {
     "data": {
      "text/plain": [
       "33"
      ]
     },
     "execution_count": 24,
     "metadata": {},
     "output_type": "execute_result"
    }
   ],
   "source": [
    "(i+j)*3"
   ]
  },
  {
   "cell_type": "markdown",
   "metadata": {},
   "source": [
    "## Functions"
   ]
  },
  {
   "cell_type": "markdown",
   "metadata": {},
   "source": [
    "You can declare a function and use it in expressions:"
   ]
  },
  {
   "cell_type": "code",
   "execution_count": 25,
   "metadata": {},
   "outputs": [
    {
     "name": "stderr",
     "output_type": "stream",
     "text": [
      "LFortran Exception: addModule() returned an error: Duplicate definition of symbol 'fn'"
     ]
    }
   ],
   "source": [
    "integer function fn(a, b)\n",
    "integer, intent(in) :: a, b\n",
    "fn = a + b\n",
    "end function"
   ]
  },
  {
   "cell_type": "code",
   "execution_count": 26,
   "metadata": {},
   "outputs": [
    {
     "data": {
      "text/plain": [
       "5"
      ]
     },
     "execution_count": 26,
     "metadata": {},
     "output_type": "execute_result"
    }
   ],
   "source": [
    "fn(2, 3)"
   ]
  },
  {
   "cell_type": "code",
   "execution_count": 27,
   "metadata": {},
   "outputs": [
    {
     "data": {
      "text/plain": [
       "15"
      ]
     },
     "execution_count": 27,
     "metadata": {},
     "output_type": "execute_result"
    }
   ],
   "source": [
    "fn(2, 3)*3"
   ]
  },
  {
   "cell_type": "markdown",
   "metadata": {},
   "source": [
    "You can redeclare a function and it will shadow the old `fn` function. Now `fn(2, 3)` returns a different value:"
   ]
  },
  {
   "cell_type": "code",
   "execution_count": 28,
   "metadata": {},
   "outputs": [
    {
     "name": "stderr",
     "output_type": "stream",
     "text": [
      "LFortran Exception: addModule() returned an error: Duplicate definition of symbol 'fn2'"
     ]
    }
   ],
   "source": [
    "integer function fn2(a, b)\n",
    "integer, intent(in) :: a, b\n",
    "fn2 = a - b\n",
    "end function\n",
    "\n",
    "fn2(2, 3)"
   ]
  },
  {
   "cell_type": "markdown",
   "metadata": {},
   "source": [
    "## Control Flow, Printing"
   ]
  },
  {
   "cell_type": "markdown",
   "metadata": {},
   "source": [
    "You can use loops, if statements or the `print` function."
   ]
  },
  {
   "cell_type": "code",
   "execution_count": 29,
   "metadata": {},
   "outputs": [
    {
     "name": "stderr",
     "output_type": "stream",
     "text": [
      "LFortran Exception: addModule() returned an error: Duplicate definition of symbol 'k'"
     ]
    }
   ],
   "source": [
    "integer :: k\n",
    "do k = 1, 4\n",
    "    if (k == 3) cycle\n",
    "    print *, \"variable i =\", k\n",
    "end do"
   ]
  },
  {
   "cell_type": "markdown",
   "metadata": {},
   "source": [
    "# Plotting"
   ]
  },
  {
   "cell_type": "markdown",
   "metadata": {},
   "source": [
    "We are designing how plotting should work in [#209](https://gitlab.com/lfortran/lfortran/-/issues/209). So this prototype code is now commented out:"
   ]
  },
  {
   "cell_type": "code",
   "execution_count": 30,
   "metadata": {},
   "outputs": [],
   "source": [
    "!integer :: i, tmp\n",
    "!do i = 1, 4\n",
    "!    tmp = plot(1, i+1, 1)\n",
    "!end do\n",
    "!show()"
   ]
  },
  {
   "cell_type": "markdown",
   "metadata": {},
   "source": [
    "# Magic Commands"
   ]
  },
  {
   "cell_type": "markdown",
   "metadata": {},
   "source": [
    "### Compiler"
   ]
  },
  {
   "cell_type": "code",
   "execution_count": 31,
   "metadata": {},
   "outputs": [
    {
     "name": "stderr",
     "output_type": "stream",
     "text": [
      "LFortran Exception: addModule() returned an error: Duplicate definition of symbol 'n'"
     ]
    }
   ],
   "source": [
    "integer :: n\n",
    "n = 5\n",
    "j = 0"
   ]
  },
  {
   "cell_type": "markdown",
   "metadata": {},
   "source": [
    "Show Abstract Syntax Tree (AST) after parsing (based on syntax only, no semantics):"
   ]
  },
  {
   "cell_type": "code",
   "execution_count": 32,
   "metadata": {},
   "outputs": [
    {
     "name": "stdout",
     "output_type": "stream",
     "text": [
      "(\u001b[1m\u001b[35mTranslationUnit\u001b[39m\u001b[0m [(\u001b[1m\u001b[35mDoLoop\u001b[39m\u001b[0m 0 () 0 i \u001b[36m1\u001b[39m \u001b[33mn\u001b[39m () [(\u001b[1m\u001b[35m=\u001b[39m\u001b[0m 0 \u001b[33mj\u001b[39m (+ \u001b[33mj\u001b[39m \u001b[33mi\u001b[39m) ())] () ())])"
     ]
    }
   ],
   "source": [
    "%%showast\n",
    "do i = 1, n\n",
    "    j = j + i\n",
    "end do"
   ]
  },
  {
   "cell_type": "markdown",
   "metadata": {},
   "source": [
    "Show LLVM code:"
   ]
  },
  {
   "cell_type": "code",
   "execution_count": 33,
   "metadata": {},
   "outputs": [
    {
     "name": "stdout",
     "output_type": "stream",
     "text": [
      "; ModuleID = 'LFortran'\n",
      "source_filename = \"LFortran\"\n",
      "\n",
      "@i = external global i32\n",
      "@j = external global i32\n",
      "@k = external global i32\n",
      "@n = external global i32\n",
      "\n",
      "define void @__lfortran_evaluate_31() {\n",
      ".entry:\n",
      "  store i32 0, i32* @i, align 4\n",
      "  br label %loop.head\n",
      "\n",
      "loop.head:                                        ; preds = %loop.body, %.entry\n",
      "  %0 = load i32, i32* @i, align 4\n",
      "  %1 = add i32 %0, 1\n",
      "  %2 = load i32, i32* @n, align 4\n",
      "  %3 = icmp sle i32 %1, %2\n",
      "  br i1 %3, label %loop.body, label %loop.end\n",
      "\n",
      "loop.body:                                        ; preds = %loop.head\n",
      "  %4 = load i32, i32* @i, align 4\n",
      "  %5 = add i32 %4, 1\n",
      "  store i32 %5, i32* @i, align 4\n",
      "  %6 = load i32, i32* @j, align 4\n",
      "  %7 = load i32, i32* @i, align 4\n",
      "  %8 = add i32 %6, %7\n",
      "  store i32 %8, i32* @j, align 4\n",
      "  br label %loop.head\n",
      "\n",
      "loop.end:                                         ; preds = %loop.head\n",
      "  br label %return\n",
      "\n",
      "return:                                           ; preds = %loop.end\n",
      "  ret void\n",
      "}\n",
      "\n",
      "declare i32 @fn(i32*, i32*)\n",
      "\n",
      "declare i32 @fn2(i32*, i32*)\n"
     ]
    }
   ],
   "source": [
    "%%showllvm\n",
    "do i = 1, n\n",
    "    j = j + i\n",
    "end do"
   ]
  },
  {
   "cell_type": "markdown",
   "metadata": {},
   "source": [
    "Show assembly code:"
   ]
  },
  {
   "cell_type": "code",
   "execution_count": 34,
   "metadata": {},
   "outputs": [
    {
     "name": "stdout",
     "output_type": "stream",
     "text": [
      "\t.text\n",
      "\t.file\t\"LFortran\"\n",
      "\t.globl\t__lfortran_evaluate_32\n",
      "\t.p2align\t4, 0x90\n",
      "\t.type\t__lfortran_evaluate_32,@function\n",
      "__lfortran_evaluate_32:\n",
      "\t.cfi_startproc\n",
      "\tmovl\t$0, i(%rip)\n",
      "\t.p2align\t4, 0x90\n",
      ".LBB0_1:\n",
      "\tmovl\ti(%rip), %eax\n",
      "\tincl\t%eax\n",
      "\tcmpl\tn(%rip), %eax\n",
      "\tjg\t.LBB0_3\n",
      "\tmovl\ti(%rip), %eax\n",
      "\tincl\t%eax\n",
      "\tmovl\t%eax, i(%rip)\n",
      "\taddl\t%eax, j(%rip)\n",
      "\tjmp\t.LBB0_1\n",
      ".LBB0_3:\n",
      "\tretq\n",
      ".Lfunc_end0:\n",
      "\t.size\t__lfortran_evaluate_32, .Lfunc_end0-__lfortran_evaluate_32\n",
      "\t.cfi_endproc\n",
      "\n",
      "\t.section\t\".note.GNU-stack\",\"\",@progbits\n"
     ]
    }
   ],
   "source": [
    "%%showasm\n",
    "do i = 1, n\n",
    "    j = j + i\n",
    "end do"
   ]
  },
  {
   "cell_type": "code",
   "execution_count": null,
   "metadata": {},
   "outputs": [],
   "source": []
  },
  {
   "cell_type": "code",
   "execution_count": null,
   "metadata": {},
   "outputs": [],
   "source": []
  },
  {
   "cell_type": "code",
   "execution_count": null,
   "metadata": {},
   "outputs": [],
   "source": []
  },
  {
   "cell_type": "code",
   "execution_count": null,
   "metadata": {},
   "outputs": [],
   "source": []
  }
 ],
 "metadata": {
  "kernelspec": {
   "display_name": "Fortran",
   "language": "fortran",
   "name": "fortran"
  },
  "language_info": {
   "file_extension": ".f90",
   "mimetype": "text/x-fortran",
   "name": "fortran",
   "version": "2018"
  }
 },
 "nbformat": 4,
 "nbformat_minor": 2
}
