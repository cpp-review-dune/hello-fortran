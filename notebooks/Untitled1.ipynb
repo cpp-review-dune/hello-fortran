{
 "cells": [
  {
   "cell_type": "code",
   "execution_count": null,
   "id": "0b61d0e7",
   "metadata": {},
   "outputs": [],
   "source": []
  }
 ],
 "metadata": {
  "kernelspec": {
   "display_name": "Fortran",
   "language": "fortran",
   "name": "fortran"
  },
  "language_info": {
   "file_extension": ".f90",
   "mimetype": "text/x-fortran",
   "name": "fortran",
   "version": "2018"
  }
 },
 "nbformat": 4,
 "nbformat_minor": 5
}
