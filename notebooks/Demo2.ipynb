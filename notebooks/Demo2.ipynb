{
 "cells": [
  {
   "cell_type": "markdown",
   "metadata": {},
   "source": [
    "# LFortran: Interactive Fortran Compiler\n",
    "\n",
    "This Demo notebook shows available magic commands in LFortran and how to use them."
   ]
  },
  {
   "cell_type": "markdown",
   "metadata": {},
   "source": [
    "# Magic Commands"
   ]
  },
  {
   "cell_type": "markdown",
   "metadata": {},
   "source": [
    "Initialize some variables"
   ]
  },
  {
   "cell_type": "code",
   "execution_count": 1,
   "metadata": {},
   "outputs": [],
   "source": [
    "integer :: i, j, n\n",
    "n = 5\n",
    "j = 0"
   ]
  },
  {
   "cell_type": "markdown",
   "metadata": {},
   "source": [
    "## AST"
   ]
  },
  {
   "cell_type": "markdown",
   "metadata": {},
   "source": [
    "Show the Abstract Syntax Tree (AST) after parsing (based on syntax only, no semantics):"
   ]
  },
  {
   "cell_type": "code",
   "execution_count": 2,
   "metadata": {},
   "outputs": [
    {
     "name": "stdout",
     "output_type": "stream",
     "text": [
      "(\u001b[1m\u001b[35mTranslationUnit\u001b[39m\u001b[0m [(\u001b[1m\u001b[35mDoLoop\u001b[39m\u001b[0m 0 () 0 i \u001b[36m1\u001b[39m \u001b[33mn\u001b[39m () [(\u001b[1m\u001b[35m=\u001b[39m\u001b[0m 0 \u001b[33mj\u001b[39m (+ \u001b[33mj\u001b[39m \u001b[33mi\u001b[39m) ())] () ())])"
     ]
    }
   ],
   "source": [
    "%%showast\n",
    "do i = 1, n\n",
    "    j = j + i\n",
    "end do"
   ]
  },
  {
   "cell_type": "markdown",
   "metadata": {},
   "source": [
    "## ASR\n",
    "\n",
    "Show the Abstract Semantic Representation (ASR), which contains all the semantics."
   ]
  },
  {
   "cell_type": "code",
   "execution_count": 3,
   "metadata": {},
   "outputs": [
    {
     "name": "stdout",
     "output_type": "stream",
     "text": [
      "(\u001b[1m\u001b[35mTranslationUnit\u001b[39m\u001b[0m (\u001b[33mSymbolTable\u001b[39m 1 {i: (\u001b[1m\u001b[35mVariable\u001b[39m\u001b[0m 1 i \u001b[1m\u001b[32mLocal\u001b[39m\u001b[0m () () \u001b[1m\u001b[32mDefault\u001b[39m\u001b[0m (\u001b[1m\u001b[35mInteger\u001b[39m\u001b[0m 4 []) \u001b[1m\u001b[32mInteractive\u001b[39m\u001b[0m \u001b[1m\u001b[32mPublic\u001b[39m\u001b[0m \u001b[1m\u001b[32mRequired\u001b[39m\u001b[0m .false.), j: (\u001b[1m\u001b[35mVariable\u001b[39m\u001b[0m 1 j \u001b[1m\u001b[32mLocal\u001b[39m\u001b[0m () () \u001b[1m\u001b[32mDefault\u001b[39m\u001b[0m (\u001b[1m\u001b[35mInteger\u001b[39m\u001b[0m 4 []) \u001b[1m\u001b[32mInteractive\u001b[39m\u001b[0m \u001b[1m\u001b[32mPublic\u001b[39m\u001b[0m \u001b[1m\u001b[32mRequired\u001b[39m\u001b[0m .false.), n: (\u001b[1m\u001b[35mVariable\u001b[39m\u001b[0m 1 n \u001b[1m\u001b[32mLocal\u001b[39m\u001b[0m () () \u001b[1m\u001b[32mDefault\u001b[39m\u001b[0m (\u001b[1m\u001b[35mInteger\u001b[39m\u001b[0m 4 []) \u001b[1m\u001b[32mInteractive\u001b[39m\u001b[0m \u001b[1m\u001b[32mPublic\u001b[39m\u001b[0m \u001b[1m\u001b[32mRequired\u001b[39m\u001b[0m .false.)}) [(\u001b[1m\u001b[35mDoLoop\u001b[39m\u001b[0m ((\u001b[1m\u001b[35mVar\u001b[39m\u001b[0m 1 \u001b[33mi\u001b[39m) (\u001b[1m\u001b[35mIntegerConstant\u001b[39m\u001b[0m \u001b[36m1\u001b[39m (\u001b[1m\u001b[35mInteger\u001b[39m\u001b[0m 4 [])) (\u001b[1m\u001b[35mVar\u001b[39m\u001b[0m 1 \u001b[33mn\u001b[39m) ()) [(\u001b[1m\u001b[35m=\u001b[39m\u001b[0m (\u001b[1m\u001b[35mVar\u001b[39m\u001b[0m 1 \u001b[33mj\u001b[39m) (\u001b[1m\u001b[35mIntegerBinOp\u001b[39m\u001b[0m (\u001b[1m\u001b[35mVar\u001b[39m\u001b[0m 1 \u001b[33mj\u001b[39m) \u001b[1m\u001b[32mAdd\u001b[39m\u001b[0m (\u001b[1m\u001b[35mVar\u001b[39m\u001b[0m 1 \u001b[33mi\u001b[39m) (\u001b[1m\u001b[35mInteger\u001b[39m\u001b[0m 4 []) ()) ())])])"
     ]
    }
   ],
   "source": [
    "%%showasr\n",
    "do i = 1, n\n",
    "    j = j + i\n",
    "end do"
   ]
  },
  {
   "cell_type": "markdown",
   "metadata": {},
   "source": [
    "## LLVM\n",
    "\n",
    "Show LLVM code:"
   ]
  },
  {
   "cell_type": "code",
   "execution_count": 4,
   "metadata": {},
   "outputs": [
    {
     "name": "stdout",
     "output_type": "stream",
     "text": [
      "; ModuleID = 'LFortran'\n",
      "source_filename = \"LFortran\"\n",
      "\n",
      "@i = external global i32\n",
      "@j = external global i32\n",
      "@n = external global i32\n",
      "\n",
      "define void @__lfortran_evaluate_2() {\n",
      ".entry:\n",
      "  store i32 0, i32* @i, align 4\n",
      "  br label %loop.head\n",
      "\n",
      "loop.head:                                        ; preds = %loop.body, %.entry\n",
      "  %0 = load i32, i32* @i, align 4\n",
      "  %1 = add i32 %0, 1\n",
      "  %2 = load i32, i32* @n, align 4\n",
      "  %3 = icmp sle i32 %1, %2\n",
      "  br i1 %3, label %loop.body, label %loop.end\n",
      "\n",
      "loop.body:                                        ; preds = %loop.head\n",
      "  %4 = load i32, i32* @i, align 4\n",
      "  %5 = add i32 %4, 1\n",
      "  store i32 %5, i32* @i, align 4\n",
      "  %6 = load i32, i32* @j, align 4\n",
      "  %7 = load i32, i32* @i, align 4\n",
      "  %8 = add i32 %6, %7\n",
      "  store i32 %8, i32* @j, align 4\n",
      "  br label %loop.head\n",
      "\n",
      "loop.end:                                         ; preds = %loop.head\n",
      "  br label %return\n",
      "\n",
      "return:                                           ; preds = %loop.end\n",
      "  ret void\n",
      "}\n"
     ]
    }
   ],
   "source": [
    "%%showllvm\n",
    "do i = 1, n\n",
    "    j = j + i\n",
    "end do"
   ]
  },
  {
   "cell_type": "markdown",
   "metadata": {},
   "source": [
    "## ASM\n",
    "\n",
    "Show assembly code:"
   ]
  },
  {
   "cell_type": "code",
   "execution_count": 5,
   "metadata": {},
   "outputs": [
    {
     "name": "stdout",
     "output_type": "stream",
     "text": [
      "\t.text\n",
      "\t.file\t\"LFortran\"\n",
      "\t.globl\t__lfortran_evaluate_3\n",
      "\t.p2align\t4, 0x90\n",
      "\t.type\t__lfortran_evaluate_3,@function\n",
      "__lfortran_evaluate_3:\n",
      "\t.cfi_startproc\n",
      "\tmovl\t$0, i(%rip)\n",
      "\t.p2align\t4, 0x90\n",
      ".LBB0_1:\n",
      "\tmovl\ti(%rip), %eax\n",
      "\tincl\t%eax\n",
      "\tcmpl\tn(%rip), %eax\n",
      "\tjg\t.LBB0_3\n",
      "\tmovl\ti(%rip), %eax\n",
      "\tincl\t%eax\n",
      "\tmovl\t%eax, i(%rip)\n",
      "\taddl\t%eax, j(%rip)\n",
      "\tjmp\t.LBB0_1\n",
      ".LBB0_3:\n",
      "\tretq\n",
      ".Lfunc_end0:\n",
      "\t.size\t__lfortran_evaluate_3, .Lfunc_end0-__lfortran_evaluate_3\n",
      "\t.cfi_endproc\n",
      "\n",
      "\t.section\t\".note.GNU-stack\",\"\",@progbits\n"
     ]
    }
   ],
   "source": [
    "%%showasm\n",
    "do i = 1, n\n",
    "    j = j + i\n",
    "end do"
   ]
  },
  {
   "cell_type": "markdown",
   "metadata": {},
   "source": [
    "## C++\n",
    "\n",
    "Transform Fortran code to C++"
   ]
  },
  {
   "cell_type": "code",
   "execution_count": 6,
   "metadata": {},
   "outputs": [
    {
     "name": "stdout",
     "output_type": "stream",
     "text": [
      "#include <iostream>\n",
      "#include <string>\n",
      "#include <vector>\n",
      "#include <cassert>\n",
      "#include <cmath>\n",
      "#include <complex>\n",
      "#include <Kokkos_Core.hpp>\n",
      "#include <lfortran_intrinsics.h>\n",
      "\n",
      "template <typename T>\n",
      "Kokkos::View<T*> from_std_vector(const std::vector<T> &v)\n",
      "{\n",
      "    Kokkos::View<T*> r(\"r\", v.size());\n",
      "    for (size_t i=0; i < v.size(); i++) {\n",
      "        r(i) = v[i];\n",
      "    }\n",
      "    return r;\n",
      "}\n",
      "\n",
      "\n",
      "struct dimension_descriptor\n",
      "{\n",
      "    int32_t lower_bound, length;\n",
      "};\n",
      "// Forward declarations\n",
      "\n",
      "template <typename T0, typename T1, typename T2>\n",
      "void triad(T0* a, T1* b, float scalar, T2* c);\n",
      "\n",
      "// Implementations\n",
      "\n",
      "template <typename T0, typename T1, typename T2>\n",
      "void triad(T0* a, T1* b, float scalar, T2* c)\n",
      "{\n",
      "    int32_t i;\n",
      "    int32_t n;\n",
      "    n = a->data->extent(0);\n",
      "    Kokkos::parallel_for(Kokkos::RangePolicy<Kokkos::DefaultExecutionSpace>(1, n+1), KOKKOS_LAMBDA(const long i) {\n",
      "        c->data->operator[](i - c->dims[0].lower_bound) = a->data->operator[](i - a->dims[0].lower_bound) + scalar*b->data->operator[](i - b->dims[0].lower_bound);\n",
      "    });\n",
      "}\n",
      "\n"
     ]
    }
   ],
   "source": [
    "%%showcpp\n",
    "subroutine triad(a, b, scalar, c)\n",
    "real, intent(in) :: a(:), b(:), scalar\n",
    "real, intent(out) :: c(:)\n",
    "integer :: N, i\n",
    "N = size(a)\n",
    "do concurrent (i = 1:N)\n",
    "    c(i) = a(i) + scalar * b(i)\n",
    "end do\n",
    "end subroutine"
   ]
  },
  {
   "cell_type": "code",
   "execution_count": 7,
   "metadata": {},
   "outputs": [
    {
     "name": "stdout",
     "output_type": "stream",
     "text": [
      "#include <iostream>\n",
      "#include <string>\n",
      "#include <vector>\n",
      "#include <cassert>\n",
      "#include <cmath>\n",
      "#include <complex>\n",
      "#include <Kokkos_Core.hpp>\n",
      "#include <lfortran_intrinsics.h>\n",
      "\n",
      "template <typename T>\n",
      "Kokkos::View<T*> from_std_vector(const std::vector<T> &v)\n",
      "{\n",
      "    Kokkos::View<T*> r(\"r\", v.size());\n",
      "    for (size_t i=0; i < v.size(); i++) {\n",
      "        r(i) = v[i];\n",
      "    }\n",
      "    return r;\n",
      "}\n",
      "\n",
      "\n",
      "struct dimension_descriptor\n",
      "{\n",
      "    int32_t lower_bound, length;\n",
      "};\n",
      "\n",
      "struct f32_10000_1\n",
      "{\n",
      "    Kokkos::View<float*>* data;\n",
      "    dimension_descriptor dims[1];\n",
      "    bool is_allocated;\n",
      "\n",
      "    f32_10000_1(Kokkos::View<float*>* data_): data{data_} {};\n",
      "};\n",
      "\n",
      "// Forward declarations\n",
      "namespace {\n",
      "\n",
      "template <typename T0, typename T1, typename T2>\n",
      "void triad(T0* a, T1* b, float scalar, T2* c);\n",
      "}\n",
      "\n",
      "// Implementations\n",
      "namespace {\n",
      "\n",
      "template <typename T0, typename T1, typename T2>\n",
      "void triad(T0* a, T1* b, float scalar, T2* c)\n",
      "{\n",
      "    int32_t i;\n",
      "    int32_t n;\n",
      "    n = a->data->extent(0);\n",
      "    Kokkos::parallel_for(Kokkos::RangePolicy<Kokkos::DefaultExecutionSpace>(1, n+1), KOKKOS_LAMBDA(const long i) {\n",
      "        c->data->operator[](i - c->dims[0].lower_bound) = a->data->operator[](i - a->dims[0].lower_bound) + scalar*b->data->operator[](i - b->dims[0].lower_bound);\n",
      "    });\n",
      "}\n",
      "\n",
      "\n",
      "void main2() {\n",
      "    Kokkos::View<float*> a_data(\"a_data\", 10000);\n",
      "    f32_10000_1 a_value(&a_data);\n",
      "    f32_10000_1* a = &a_value;\n",
      "    a->dims[0].lower_bound = 1;\n",
      "    a->dims[0].length = 10000;\n",
      "    Kokkos::View<float*> b_data(\"b_data\", 10000);\n",
      "    f32_10000_1 b_value(&b_data);\n",
      "    f32_10000_1* b = &b_value;\n",
      "    b->dims[0].lower_bound = 1;\n",
      "    b->dims[0].length = 10000;\n",
      "    Kokkos::View<float*> c_data(\"c_data\", 10000);\n",
      "    f32_10000_1 c_value(&c_data);\n",
      "    f32_10000_1* c = &c_value;\n",
      "    c->dims[0].lower_bound = 1;\n",
      "    c->dims[0].length = 10000;\n",
      "    int32_t i;\n",
      "    int32_t nsize;\n",
      "    float scalar;\n",
      "    scalar = (float)(10);\n",
      "    nsize = a->data->extent(0);\n",
      "    Kokkos::parallel_for(Kokkos::RangePolicy<Kokkos::DefaultExecutionSpace>(1, nsize+1), KOKKOS_LAMBDA(const long i) {\n",
      "        a->data->operator[](i - a->dims[0].lower_bound) = (float)(5);\n",
      "        b->data->operator[](i - b->dims[0].lower_bound) = (float)(5);\n",
      "    });\n",
      "    triad(a, b, scalar, c);\n",
      "    std::cout << \"End Stream Triad\" << std::endl;\n",
      "}\n",
      "\n",
      "}\n",
      "int main(int argc, char* argv[])\n",
      "{\n",
      "    Kokkos::initialize(argc, argv);\n",
      "    main2();\n",
      "    Kokkos::finalize();\n",
      "    return 0;\n",
      "}\n"
     ]
    }
   ],
   "source": [
    "%%showcpp\n",
    "program doconcurrentloop_01\n",
    "implicit none\n",
    "real, dimension(10000) :: a, b, c\n",
    "real :: scalar\n",
    "integer :: i, nsize\n",
    "scalar = 10\n",
    "nsize = size(a)\n",
    "do concurrent (i = 1:nsize)\n",
    "    a(i) = 5\n",
    "    b(i) = 5\n",
    "end do\n",
    "call triad(a, b, scalar, c)\n",
    "print *, \"End Stream Triad\"\n",
    "\n",
    "contains\n",
    "\n",
    "    subroutine triad(a, b, scalar, c)\n",
    "    real, intent(in) :: a(:), b(:), scalar\n",
    "    real, intent(out) :: c(:)\n",
    "    integer :: N, i\n",
    "    N = size(a)\n",
    "    do concurrent (i = 1:N)\n",
    "        c(i) = a(i) + scalar * b(i)\n",
    "    end do\n",
    "    end subroutine\n",
    "\n",
    "end program"
   ]
  },
  {
   "cell_type": "markdown",
   "metadata": {},
   "source": [
    "## Format Fortran code\n",
    "\n",
    "You can use `lfortran fmt` to format Fortran code, or the `%%showfmt` command."
   ]
  },
  {
   "cell_type": "code",
   "execution_count": 8,
   "metadata": {},
   "outputs": [
    {
     "name": "stdout",
     "output_type": "stream",
     "text": [
      "\u001b[96msubroutine\u001b[39m triad(a, b, scalar, c); \u001b[92mreal\u001b[39m, \u001b[92mintent\u001b[39m(\u001b[92min\u001b[39m) :: a(:), b(:), scalar; \u001b[92mreal\u001b[39m, \u001b[92mintent\u001b[39m(\u001b[92mout\u001b[39m) :: c(:); \u001b[92minteger\u001b[39m :: N, i; N = size(a); \u001b[33mdo concurrent\u001b[39m (i = \u001b[35m1\u001b[39m:N);     c(i) = a(i) + scalar*b(i); \u001b[33mend do\u001b[39m; \u001b[96mend subroutine\u001b[39m triad\n"
     ]
    }
   ],
   "source": [
    "%%showfmt\n",
    "subroutine triad(a, b, scalar, c); real, intent(in) :: a(:), b(:), scalar; real, intent(out) :: c(:); integer :: N, i; N = size(a); do concurrent (i = 1:N); c(i) = a(i) + scalar * b(i); end do; end subroutine"
   ]
  },
  {
   "cell_type": "code",
   "execution_count": null,
   "metadata": {},
   "outputs": [],
   "source": []
  }
 ],
 "metadata": {
  "kernelspec": {
   "display_name": "Fortran",
   "language": "fortran",
   "name": "fortran"
  },
  "language_info": {
   "file_extension": ".f90",
   "mimetype": "text/x-fortran",
   "name": "fortran",
   "version": "2018"
  }
 },
 "nbformat": 4,
 "nbformat_minor": 2
}
